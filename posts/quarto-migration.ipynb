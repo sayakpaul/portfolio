{
  "cells": [
    {
      "cell_type": "markdown",
      "metadata": {
        "id": "8dk3ubseIeOW"
      },
      "source": [
        "---\n",
        "aliases:\n",
        "- /quarto-migration\n",
        "permalink: /quarto-migration\n",
        "badges: false\n",
        "toc: true\n",
        "categories:\n",
        "- quarto\n",
        "- blogging\n",
        "- fastpages\n",
        "date: '2024-01-17'\n",
        "description: Some tidbits of migrating from fastpages to Quarto.\n",
        "hide: true\n",
        "output-file: quarto-migration.html\n",
        "search_exclude: true\n",
        "title: Another Quarto Migration Guide for fastpages Users\n",
        "---"
      ]
    },
    {
      "cell_type": "markdown",
      "metadata": {
        "id": "bcqiW297JJyu"
      },
      "source": [
        "For more than four years, I used [fastpages](https://fastpages.fast.ai/) for my personal site, [sayak.dev](https://sayak.dev), because it offered a really easy way to do blogging. When its creator, Hamel, [posted](https://forums.fast.ai/t/fastpages-deprecating-fastpages-in-favor-of-quarto/99095) about its deprecation in favor of Quarto, I was anxious. Migrations always make me anxious. But I still continued with fastpages anyway.\n",
        "\n",
        "But entering into this year, I decided to finally switch to Quarto for apparently no specific reason. I think I just wanted a fresh look for my website but didn't want something too fancy. Quarto provides a perfect balance between simplicity and visual aesthetics. So, I knew I would use Quarto eventually I migrate from fastpages.\n",
        "\n",
        "Hamel provides an excellent Quarto migration guide for fastpages users [here](https://nbdev.fast.ai/tutorials/blogging.html). However, I had to take care of a few additional things to make it all work and successfully migrate sayak.dev to Quarto. In this post, I want to provide a detailed account of what I did and some personal preferential bits in the hope that it will be beneficial for someone else. Let's get started 💫"
      ]
    },
    {
      "cell_type": "markdown",
      "metadata": {
        "id": "z5pLh600MYur"
      },
      "source": [
        "### Bit 0: Go through the original migration guide\n",
        "\n",
        "This post assumes that you're here because you're migrating your fastpages website to Quarto. So, it's a must that you first read [Hamel's migration guide](https://nbdev.fast.ai/tutorials/blogging.html) in detail."
      ]
    },
    {
      "cell_type": "markdown",
      "metadata": {
        "id": "2VdTWg6FMzKL"
      },
      "source": [
        "### Bit 1: Install `nbdev` from source\n",
        "\n",
        "While running the `nbdev_migrate --path posts` step, you might encounter compatibility problems. This is, luckily, easily mitigated by installing `nbdev` from source:\n",
        "\n",
        "```bash\n",
        "pip install git+https://github.com/fastai/nbdev\n",
        "```"
      ]
    },
    {
      "cell_type": "markdown",
      "metadata": {
        "id": "L4k7qe8nNV7n"
      },
      "source": [
        "### Bit 2: Use a separate repository for dev\n",
        "\n",
        "I found it it's better and more convenient to use a separate repository while doing the initial developments related to the migration. For example, my website code is hosted at https://github.com/sayakpaul/portfolio/, but I maintained another repository during the initial development.\n",
        "\n",
        "This especially comes in handy for setting up the GitHub Actions, previewing the site with GitHub Pages, etc. This way, you can also ensure that everything looks hunky-dory before you move the contents to the actual serving repository (\"portfolio\" in my case)."
      ]
    },
    {
      "cell_type": "markdown",
      "metadata": {
        "id": "gvZNHgyUOpT-"
      },
      "source": [
        "### Bit 3: Connect with GitHub Actions and Pages\n",
        "\n",
        "Most of us (if not all) want to automate the website publishing process after a change is pushed to the serving repository. So, we should definitely set up a workflow that does this for us. Refer to the [official Quarto documentation](https://quarto.org/docs/publishing/github-pages.html#github-action) to use the recommended worflow file. It covers most use cases and it worked like a charm in my case. I didn't have to touch a single thing in the workflow. Refer [here](https://quarto.org/docs/publishing/github-pages.html#source-branch) for connecting your site with GitHub Pages."
      ]
    },
    {
      "cell_type": "markdown",
      "metadata": {
        "id": "hp2THxoARCcE"
      },
      "source": [
        "### Bit 4: Pay attention to branch names\n",
        "\n",
        "If you used another repository as suggested in \"Bit 2\", be careful about the branch names when moving the contents over to the actual repository. You need to configure a repository branch name in the following places, for example:\n",
        "\n",
        "* The publishing [worfkflow](https://github.com/sayakpaul/portfolio/blob/b51a1d390c26d3bfef49e40c5723a30f5b6ee9f0/.github/workflows/publish.yml#L4)\n",
        "* The \"_quarto.yml\" [configuration](https://github.com/sayakpaul/portfolio/blob/b51a1d390c26d3bfef49e40c5723a30f5b6ee9f0/_quarto.yml#L23)\n",
        "\n",
        "This is important to note because fastpages defaults to \"master\" while recent GitHub repositories default to \"main\"."
      ]
    },
    {
      "cell_type": "markdown",
      "metadata": {
        "id": "5908hQDhSdQD"
      },
      "source": [
        "### Bit 5: Careful copying\n",
        "\n",
        "*(Only applicable if you used another repository as per \"Bit 2\")*\n",
        "\n",
        "When you're satisfied with the migrated content, you may wish to copy over all the elements in the original repository. Some things I found to be useful to keep in mind while performing this step (assuming both the backup and original repositories are locally cloned):\n",
        "\n",
        "* Clear out the original repository contents, first: `rm -rf * .gitignore .github`. This will remove all the files and folders along with the `.gitignore` file. You can add any other hidden files to the mix as needed. But don't accidentally delete the `.git` file.\n",
        "* Copy over the contents from your backup repository: `cp -r backup_repo/* original_repo/ && cp -r backup_repo/.github original_repo/`. Finally, copy the `.gitignore` file: `cp backup_repo/.gitignore original_repo/`. You can copy any additional hidden file as needed, but not the `.git` file.\n",
        "\n",
        "I know that this step is slightly involved and can potentially be made simpler."
      ]
    },
    {
      "cell_type": "markdown",
      "metadata": {
        "id": "j_nufOXlUFos"
      },
      "source": [
        "### Bit 6: Configuring a custom domain\n",
        "\n",
        "*(Only applicable if you're serving from a custom domain)*\n",
        "\n",
        "I struggled with this step a little. After setting up the CNAME on my repository [here](https://github.com/sayakpaul/portfolio/blob/master/CNAME) and configuring the GitHub Pages section as shown [here](https://huggingface.co/datasets/sayakpaul/sample-datasets/blob/main/github_pages_sayak.png), my site was not getting rendered at \"sayak.dev\", yielding 404 errors. After some Google searches, I stumbled upon [this thread](https://github.com/quarto-dev/quarto-cli/discussions/3249#discussioncomment-4090518), and it solved the problem!\n",
        "\n",
        "And that's it! I found the Quarto resources to be really self-sufficient and the migration process was way smoother than expected, thanks to the amazing resources."
      ]
    }
  ],
  "metadata": {
    "colab": {
      "name": "quarto-migration",
      "provenance": []
    },
    "kernelspec": {
      "display_name": "Python 3",
      "name": "python3"
    }
  },
  "nbformat": 4,
  "nbformat_minor": 0
}
