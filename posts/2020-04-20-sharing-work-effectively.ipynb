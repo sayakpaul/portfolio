{
 "cells": [
  {
   "cell_type": "raw",
   "metadata": {
    "vscode": {
     "languageId": "raw"
    }
   },
   "source": [
    "---\n",
    "aliases:\n",
    "- /sharing-work\n",
    "badges: false\n",
    "categories:\n",
    "- blogs\n",
    "- sharing\n",
    "date: '2020-04-20'\n",
    "description: A few tips on sharing your work online effectively.\n",
    "hide: true\n",
    "output-file: sharing-work.html\n",
    "# permalink: /sharing-work\n",
    "search_exclude: true\n",
    "title: Sharing your work online effectively\n",
    "twitter-card: false\n",
    "toc: false\n",
    "---"
   ]
  },
  {
   "cell_type": "markdown",
   "metadata": {
    "id": "pLEkXLz_vxlO"
   },
   "source": [
    "Well, you have put a lot of blood and sweat into writing your latest blog post on Machine Learning. Don't let your struggle go in vain and let the world know about it. Sharing your blog posts across different channels not only gives you exposure but also may get you tremendous feedback on your work. In my personal experience, the feedback has been super useful for me to improve myself not only as a writer but also as a communicator. There can be times you might have missed out on a super important detail, or you might have unknowingly introduced a snazzy bug in the code listings of your blog -- those things could have been caught in the process of feedback interchange. \n",
    "\n",
    "In this short article, I am going to enlist a few different ways to share your work and get feedback. Note your work can be anything starting from a crucial GitHub PR, to a weekend project. Although the following platforms and communities are mostly limited to Machine Learning, I hope this guide will be useful for tech bloggers in general. "
   ]
  },
  {
   "cell_type": "markdown",
   "metadata": {
    "id": "xiqDn7RpvxlP"
   },
   "source": [
    "## Sharing on platforms/communities\n",
    "\n",
    "Before I start the sharing process, I generally create a Google Doc to effectively keep track of where I am sharing my work. This essentially acts as a checklist for all the places I want to share my work on. Here's the template I follow for creating the Google Doc - \n",
    "\n",
    "- Link to where the work has been posted.\n",
    "- Brief description of the work.\n",
    "- Post table:\n",
    "\n",
    "\t![](https://github.com/sayakpaul/portfolio/blob/master/images/blog_matters.png?raw=true)\n",
    "\n",
    "I generally keep the description to a maximum of _280 characters_ so that I can use it on Twitter as well. \n",
    "\n",
    "Now, turning to the platforms and communities, here are some recommendations (in no particular order):\n",
    "- HackerNews (https://news.ycombinator.com/newest)\n",
    "- Made With ML (https://madewithml.com/)\n",
    "- Reddit\n",
    "    - [r/MachineLearning](https://www.reddit.com/r/MachineLearning/)\n",
    "    - [r/MachinesLearn](https://www.reddit.com/r/MachinesLearn/)\n",
    "    - [r/learnmachinelearning](https://www.reddit.com/r/learnmachinelearning/)\n",
    "    - [r/deeplearning](https://www.reddit.com/r/deeplearning/)\n",
    "- Twitter\n",
    "- Facebook \n",
    "    - [AIDL](https://www.facebook.com/groups/DeepNetGroup/)\n",
    "    - [Montreal AI](https://www.facebook.com/groups/MontrealAI/)\n",
    "    - [Deep Learning](https://www.facebook.com/groups/DeepLearnng/)\n",
    "- Fast.ai Forum (https://forums.fast.ai/)\n",
    "- LinkedIn\n",
    "- Google Groups (depends on the framework used in the work)\n",
    "    - discuss@tensorflow.org\n",
    "    - tflite@tensorflow.org\n",
    "    - tfjs@tensorflow.org\n",
    "    - tfx@tensorflow.org\n",
    "\n",
    "While sharing my work, I find it to be important to always attach a brief description. Additionally, if your work is related to implementing research work, you should definitely include it on [Papers with Code](https://paperswithcode.com/). "
   ]
  },
  {
   "cell_type": "markdown",
   "metadata": {
    "id": "oyzIZdy8vxlQ"
   },
   "source": [
    "## Sharing to aid discussions\n",
    "\n",
    "You might be active on online forums like Quora, StackOverflow, and so on. While participating in a discussion in those forums you can make effective use of your work _if it is relevant_. In these cases, the approach is to not just supply a link to your work, but also to first write about any important pointers relevant to the discussion first, and then supply the link to your work to better aid it. Let's say there's a discussion going on the topic of _\"What is Weight Initialization in Neural Nets?\"_ Here's how I would approach my comment:\n",
    "\n",
    "> A neural net can be viewed as a function with learnable parameters and those parameters are often referred to as weights and biases. Now, while starting the training of neural nets these parameters (typically the weights) are initialized in a number of different ways - sometimes, using constant values like 0’s and 1’s, sometimes with values sampled from some distribution (typically a uniform distribution or normal distribution), sometimes with other sophisticated schemes like Xavier Initialization.\n",
    "The performance of a neural net depends a lot on how its parameters are initialized when it is starting to train. Moreover, if we initialize it randomly for each run, it’s bound to be non-reproducible (almost) and even not-so-performant too. On the other hand, if we initialize it with constant values, it might take way too long to converge. With that, we also eliminate the beauty of randomness which in turn gives a neural net the power to reach covergence quicker using gradient-based learning. We clearly need a better way to initialize it.\n",
    "Careful initialization of weights helps us to train them better. To know more, please follow [this article of mine](https://www.wandb.com/articles/the-effects-of-weight-initialization-on-neural-nets). \n",
    "\n",
    "\n",
    "Well, that's it for now. I hope it proves to be useful for you. Please provide any suggestions you may have via the comments. I am thankful to [Alessio](https://www.linkedin.com/in/alessio-gozzoli-530aa2109/) of [FloydHub](https://www.floydhub.com/) for sharing these tips with me. "
   ]
  }
 ],
 "metadata": {
  "colab": {
   "name": "2020-04-20-sharing-work-effectively.ipynb",
   "provenance": []
  },
  "kernelspec": {
   "display_name": "Python 3 (ipykernel)",
   "language": "python",
   "name": "python3"
  },
  "language_info": {
   "codemirror_mode": {
    "name": "ipython",
    "version": 3
   },
   "file_extension": ".py",
   "mimetype": "text/x-python",
   "name": "python",
   "nbconvert_exporter": "python",
   "pygments_lexer": "ipython3",
   "version": "3.9.17"
  }
 },
 "nbformat": 4,
 "nbformat_minor": 4
}
